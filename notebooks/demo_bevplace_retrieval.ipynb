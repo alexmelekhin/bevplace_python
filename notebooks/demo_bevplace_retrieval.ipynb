{
  "cells": [
    {
      "cell_type": "markdown",
      "metadata": {},
      "source": [
        "# BEVPlace++ — Minimal Demo\n",
        "\n",
        "This notebook briefly demonstrates:\n",
        "- Torch-based BEV density image generation\n",
        "- REM + NetVLAD forward pass to produce global descriptors\n",
        "- Simple retrieval with PCA + FAISS index\n",
        "\n",
        "Note: This is a shape/flow demo; for speed and offline use, REM is instantiated without pretrained weights.\n"
      ]
    },
    {
      "cell_type": "code",
      "execution_count": 1,
      "metadata": {},
      "outputs": [
        {
          "data": {
            "text/plain": [
              "'cuda'"
            ]
          },
          "execution_count": 1,
          "metadata": {},
          "output_type": "execute_result"
        }
      ],
      "source": [
        "import torch\n",
        "import numpy as np\n",
        "\n",
        "from bevplace import (\n",
        "    bev_density_image_torch,\n",
        "    REIN,\n",
        ")\n",
        "from bevplace.core.types import BEVParams\n",
        "from bevplace.retrieval import BEVIndex\n",
        "\n",
        "# Select device\n",
        "DEVICE = \"cuda\" if torch.cuda.is_available() else \"cpu\"\n",
        "DEVICE\n"
      ]
    },
    {
      "cell_type": "code",
      "execution_count": 2,
      "metadata": {},
      "outputs": [
        {
          "data": {
            "text/plain": [
              "(torch.Size([1, 200, 200]), 0.0, 1.0, device(type='cuda', index=0))"
            ]
          },
          "execution_count": 2,
          "metadata": {},
          "output_type": "execute_result"
        }
      ],
      "source": [
        "# 1) Generate a random point cloud and build BEV\n",
        "N = 200000\n",
        "pts = (torch.randn(N, 3, device=DEVICE) * 30.0)\n",
        "params = BEVParams(D=40.0, g=0.4)\n",
        "bev = bev_density_image_torch(pts, params)\n",
        "bev.shape, bev.min().item(), bev.max().item(), bev.device\n"
      ]
    },
    {
      "cell_type": "code",
      "execution_count": 3,
      "metadata": {},
      "outputs": [
        {
          "data": {
            "text/plain": [
              "(torch.Size([1, 128, 50, 50]),\n",
              " torch.Size([1, 128, 200, 200]),\n",
              " torch.Size([1, 8192]))"
            ]
          },
          "execution_count": 3,
          "metadata": {},
          "output_type": "execute_result"
        }
      ],
      "source": [
        "# 2) REIN forward: local/global descriptors\n",
        "model = REIN().to(DEVICE).eval()\n",
        "with torch.no_grad():\n",
        "    out1, out2, desc = model(bev.unsqueeze(0))  # [1,1,H,W] -> batch 1\n",
        "out1.shape, out2.shape, desc.shape\n"
      ]
    },
    {
      "cell_type": "code",
      "execution_count": 7,
      "metadata": {},
      "outputs": [
        {
          "data": {
            "text/plain": [
              "[RetrievalHit(id=1, distance=72.49774932861328),\n",
              " RetrievalHit(id=7, distance=72.54429626464844),\n",
              " RetrievalHit(id=9, distance=72.81539154052734)]"
            ]
          },
          "execution_count": 7,
          "metadata": {},
          "output_type": "execute_result"
        }
      ],
      "source": [
        "# 3) Simple retrieval: build small DB and query\n",
        "rng = np.random.default_rng(0)\n",
        "# Make 10 random descriptors around our query desc with small noise\n",
        "base = desc.detach().cpu().numpy()\n",
        "DB = np.vstack([\n",
        "    base + rng.normal(scale=0.1, size=base.shape)\n",
        "    for _ in range(10)\n",
        "])  # 10 items, each with independent noise\n",
        "\n",
        "index = BEVIndex(pca_dim=16)\n",
        "index.fit_pca(DB)\n",
        "index.add(DB, poses=None)\n",
        "\n",
        "hits = index.search(base, k=3)\n",
        "hits[0]  # show top-3\n"
      ]
    }
  ],
  "metadata": {
    "kernelspec": {
      "display_name": ".venv",
      "language": "python",
      "name": "python3"
    },
    "language_info": {
      "codemirror_mode": {
        "name": "ipython",
        "version": 3
      },
      "file_extension": ".py",
      "mimetype": "text/x-python",
      "name": "python",
      "nbconvert_exporter": "python",
      "pygments_lexer": "ipython3",
      "version": "3.10.18"
    }
  },
  "nbformat": 4,
  "nbformat_minor": 2
}
